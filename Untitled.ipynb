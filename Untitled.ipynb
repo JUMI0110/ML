{
 "cells": [
  {
   "cell_type": "code",
   "execution_count": 1,
   "id": "af926739-5d92-4b7d-b2ac-07dbc7dc9d8b",
   "metadata": {},
   "outputs": [
    {
     "ename": "SyntaxError",
     "evalue": "'(' was never closed (1126704291.py, line 21)",
     "output_type": "error",
     "traceback": [
      "\u001b[1;36m  Cell \u001b[1;32mIn[1], line 21\u001b[1;36m\u001b[0m\n\u001b[1;33m    new_trd.corr(numeric_only=True).loc((new_trd.corr(numeric_only=True))['Survived']\u001b[0m\n\u001b[1;37m                                       ^\u001b[0m\n\u001b[1;31mSyntaxError\u001b[0m\u001b[1;31m:\u001b[0m '(' was never closed\n"
     ]
    }
   ],
   "source": [
    "import numpy as np\n",
    "import pandas as pd\n",
    "\n",
    "train_data = pd.read_csv(\"data/titanic/train.csv\")\n",
    "trd = train_data\n",
    "test_data = pd.read_csv(\"data/titanic/test.csv\")\n",
    "ted = test_data\n",
    "\n",
    "# 트레인 데이터 변형\n",
    "trd_dummy = pd.get_dummies(trd[['Sex','Embarked']])\n",
    "carbin_null = trd[['Cabin']].isnull()\n",
    "new_trd = pd.concat([trd, trd_dummy,], axis=1)\n",
    "new_trd['Cabin'] = carbin_null\n",
    "# 테스트 데이터 변형\n",
    "ted_dummy = pd.get_dummies(ted[['Sex','Embarked']])\n",
    "te_carbin_null['Cabin'] = ted[['Cabin']].isnull()\n",
    "new_ted = pd.concat([ted, ted_dummy,], axis=1)\n",
    "new_ted['Cabin'] = te_carbin_null\n",
    "\n",
    "# 상관관계\n",
    "new_trd.corr(numeric_only=True).loc((new_trd.corr(numeric_only=True))['Survived']\n",
    "\n",
    "# 특성 선택\n",
    "trd_t = new_trd[['Pclass','Sex_female','Cabin','Age']]\n",
    "trd_j = new_trd[['Pclass','Sex_female','Sex_male']]\n",
    "trd_s = new_trd[['Pclass','Age','Fare','Sex_female','Embarked_C','Embarked_Q','Embarked_S']]\n",
    "\n",
    "# 테스트 인풋\n",
    "ted_t = new_ted[['Pclass','Sex_female','Cabin','Age']]\n",
    "ted_j = new_ted[['Pclass','Sex_female','Sex_male']]\n",
    "ted_s = new_ted[['Pclass','Age','Fare','Sex_female','Embarked_C','Embarked_Q','Embarked_S']]"
   ]
  },
  {
   "cell_type": "code",
   "execution_count": null,
   "id": "bc17bcd0-1a82-4f02-9aeb-a289b8b9b320",
   "metadata": {},
   "outputs": [],
   "source": []
  }
 ],
 "metadata": {
  "kernelspec": {
   "display_name": "Python 3 (ipykernel)",
   "language": "python",
   "name": "python3"
  },
  "language_info": {
   "codemirror_mode": {
    "name": "ipython",
    "version": 3
   },
   "file_extension": ".py",
   "mimetype": "text/x-python",
   "name": "python",
   "nbconvert_exporter": "python",
   "pygments_lexer": "ipython3",
   "version": "3.12.4"
  }
 },
 "nbformat": 4,
 "nbformat_minor": 5
}
